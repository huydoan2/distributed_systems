{
 "cells": [
  {
   "cell_type": "code",
   "execution_count": 21,
   "metadata": {},
   "outputs": [
    {
     "name": "stdout",
     "output_type": "stream",
     "text": [
      "['goodProb' 'PlacePlurality' 'Pairwise' 'Borda' 'Kemedy' 'Pruned']\n"
     ]
    },
    {
     "data": {
      "image/png": "[encoded data removed]",
      "text/plain": [
       "<matplotlib.figure.Figure at 0x168439007f0>"
      ]
     },
     "metadata": {},
     "output_type": "display_data"
    }
   ],
   "source": [
    "import pandas as pd\n",
    "import matplotlib.pyplot as plt\n",
    "\n",
    "markers = ['o', 'v', '^', '8', 's', 'p', '*', 'h', 'H', 'D', 'd', 'P', 'X']\n",
    "# read data\n",
    "df = pd.read_csv('data.csv', index_col=False)\n",
    "x = df[df.columns[0:2]]\n",
    "\n",
    "x = df[df.columns[0:1]]\n",
    "headers = df.columns.values\n",
    "print(headers)\n",
    "\n",
    "for i in range(1,df.shape[1]):\n",
    "    y = df[df.columns[i:i+1]]\n",
    "    plt.scatter(x, y, marker=markers[i], label = headers[i])\n",
    "\n",
    "plt.xlabel(\"goodProb\")\n",
    "plt.ylabel(\"Avg. Distant from ideal\")\n",
    "plt.legend(loc=0)\n",
    "plt.show()\n"
   ]
  },
  {
   "cell_type": "code",
   "execution_count": 6,
   "metadata": {},
   "outputs": [
    {
     "name": "stdout",
     "output_type": "stream",
     "text": [
      "6\n"
     ]
    }
   ],
   "source": [
    "print(df.shape[1])"
   ]
  },
  {
   "cell_type": "code",
   "execution_count": null,
   "metadata": {
    "collapsed": true
   },
   "outputs": [],
   "source": []
  }
 ],
 "metadata": {
  "kernelspec": {
   "display_name": "Python 3",
   "language": "python",
   "name": "python3"
  },
  "language_info": {
   "codemirror_mode": {
    "name": "ipython",
    "version": 3
   },
   "file_extension": ".py",
   "mimetype": "text/x-python",
   "name": "python",
   "nbconvert_exporter": "python",
   "pygments_lexer": "ipython3",
   "version": "3.6.2"
  }
 },
 "nbformat": 4,
 "nbformat_minor": 2
}
